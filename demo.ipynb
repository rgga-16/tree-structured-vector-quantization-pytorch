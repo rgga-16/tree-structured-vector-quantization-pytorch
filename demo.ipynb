{
    "cells": [
        {
            "cell_type": "code",
            "execution_count": null,
            "source": [
                "from tvsq import tvsq"
            ],
            "outputs": [],
            "metadata": {}
        },
        {
            "cell_type": "markdown",
            "source": [
                "Running TVSQ given a single neighborhood size."
            ],
            "metadata": {}
        },
        {
            "cell_type": "code",
            "execution_count": null,
            "source": [
                "in_path = '161.jpg'\r\n",
                "out_path = '161_out.jpg'\r\n",
                "tvsq(in_path,out_path,n_size=5,n_levels=4,in_size=64,out_size=192,parent_size=5)"
            ],
            "outputs": [],
            "metadata": {}
        }
    ],
    "metadata": {
        "orig_nbformat": 4,
        "language_info": {
            "name": "python",
            "version": "3.7.9",
            "mimetype": "text/x-python",
            "codemirror_mode": {
                "name": "ipython",
                "version": 3
            },
            "pygments_lexer": "ipython3",
            "nbconvert_exporter": "python",
            "file_extension": ".py"
        },
        "kernelspec": {
            "name": "python3",
            "display_name": "Python 3.7.9 64-bit ('tvsq_pytorch': conda)"
        },
        "interpreter": {
            "hash": "37c631d59b521550fa169b13e8087c3d60641766f69e69280fd86a0e271510ca"
        }
    },
    "nbformat": 4,
    "nbformat_minor": 2
}